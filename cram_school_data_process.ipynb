{
 "cells": [
  {
   "cell_type": "markdown",
   "metadata": {},
   "source": [
    "# 各縣市補習班資訊\n",
    "\n",
    "資料來源： [直轄市及各縣市短期補習班資訊管理系統](http://bsb.edu.tw/)"
   ]
  },
  {
   "cell_type": "code",
   "execution_count": 129,
   "metadata": {
    "collapsed": true
   },
   "outputs": [],
   "source": [
    "import urllib.request\n",
    "from urllib.parse import quote_plus\n",
    "from bs4 import BeautifulSoup as bs\n",
    "import json"
   ]
  },
  {
   "cell_type": "code",
   "execution_count": 21,
   "metadata": {
    "collapsed": false
   },
   "outputs": [],
   "source": [
    "host = 'http://bsb.edu.tw/afterschool/opendata/{}'\n",
    "url = 'http://bsb.edu.tw/afterschool/opendata/afterschool_list.jsp'\n",
    "f = urllib.request.urlopen(url);\n",
    "soup = bs(f.read(), 'lxml')"
   ]
  },
  {
   "cell_type": "code",
   "execution_count": 31,
   "metadata": {
    "collapsed": false
   },
   "outputs": [],
   "source": [
    "data = {}\n",
    "for a in soup.select('div > a'):\n",
    "    json_url = host.format(a['href'])\n",
    "    raw = urllib.request.urlopen(json_url).read().decode('utf-8');\n",
    "    data[a.text.strip()] = json.loads(raw)"
   ]
  },
  {
   "cell_type": "code",
   "execution_count": 32,
   "metadata": {
    "collapsed": false
   },
   "outputs": [
    {
     "data": {
      "text/plain": [
       "dict_keys(['屏東縣', '新竹市', '宜蘭縣', '苗栗縣', '新北市', '嘉義市', '高雄市', '彰化縣', '澎湖縣', '南投縣', '台中市', '嘉義縣', '桃園市', '台北市', '新竹縣', '臺東縣', '花蓮縣', '基隆市', '雲林縣', '台南市', '連江縣', '金門縣'])"
      ]
     },
     "execution_count": 32,
     "metadata": {},
     "output_type": "execute_result"
    }
   ],
   "source": [
    "data.keys()"
   ]
  },
  {
   "cell_type": "code",
   "execution_count": 81,
   "metadata": {
    "collapsed": false
   },
   "outputs": [
    {
     "data": {
      "text/plain": [
       "{'各地短期補習班數量': '355',\n",
       " '地區縣市': '新竹縣政府',\n",
       " '地址': '竹北市東海里5鄰東海二街200巷1弄13號',\n",
       " '短期補習班名稱': '私立立勝短期補習班',\n",
       " '短期補習班類別': '外語類',\n",
       " '立案時間': '2005-12-01'}"
      ]
     },
     "execution_count": 81,
     "metadata": {},
     "output_type": "execute_result"
    }
   ],
   "source": [
    "data['新竹縣'][0]"
   ]
  },
  {
   "cell_type": "code",
   "execution_count": 36,
   "metadata": {
    "collapsed": false
   },
   "outputs": [],
   "source": [
    "items = []\n",
    "\n",
    "for k, v in data.items():\n",
    "    items += v"
   ]
  },
  {
   "cell_type": "code",
   "execution_count": 41,
   "metadata": {
    "collapsed": false
   },
   "outputs": [
    {
     "name": "stdout",
     "output_type": "stream",
     "text": [
      "['資訊類', '美術、書法、攝影、美工設計、圍棋類', '縫紉類', '音樂、舞蹈類', '文理類', '法政類', '瑜珈類', '速讀類', '美容、美髮理髮類', '其他類', '電機、汽車修護、建築、工藝、製圖類', '商類：珠算、心算、會計', '外語類', '家政、插花、烹飪類']\n"
     ]
    }
   ],
   "source": [
    "cats = [item['短期補習班類別'] for item in items]\n",
    "cats = list(set(cats))\n",
    "print(cats)"
   ]
  },
  {
   "cell_type": "code",
   "execution_count": 48,
   "metadata": {
    "collapsed": false
   },
   "outputs": [],
   "source": [
    "from collections import Counter\n",
    "\n",
    "city_cats = {}\n",
    "for city, schools in data.items():\n",
    "    city_cats[city] = dict(Counter([s['短期補習班類別'] for s in schools]))"
   ]
  },
  {
   "cell_type": "code",
   "execution_count": 53,
   "metadata": {
    "collapsed": false
   },
   "outputs": [],
   "source": [
    "with open('city_cats.json', 'w') as fp:\n",
    "    json.dump(city_cats, fp, ensure_ascii=False, indent=2)"
   ]
  },
  {
   "cell_type": "code",
   "execution_count": 55,
   "metadata": {
    "collapsed": false
   },
   "outputs": [
    {
     "data": {
      "text/plain": [
       "{'其他類': 1,\n",
       " '商類：珠算、心算、會計': 1,\n",
       " '外語類': 123,\n",
       " '文理類': 246,\n",
       " '法政類': 3,\n",
       " '美容、美髮理髮類': 4,\n",
       " '美術、書法、攝影、美工設計、圍棋類': 6,\n",
       " '資訊類': 7,\n",
       " '電機、汽車修護、建築、工藝、製圖類': 1,\n",
       " '音樂、舞蹈類': 18}"
      ]
     },
     "execution_count": 55,
     "metadata": {},
     "output_type": "execute_result"
    }
   ],
   "source": [
    "dict(Counter([d['短期補習班類別'] for d in data['新竹市']]))"
   ]
  },
  {
   "cell_type": "markdown",
   "metadata": {},
   "source": [
    "# 105 學年度在學人口統計\n",
    "\n",
    "資料來源： [教育部統計處](https://stats.moe.gov.tw)"
   ]
  },
  {
   "cell_type": "code",
   "execution_count": 60,
   "metadata": {
    "collapsed": true
   },
   "outputs": [],
   "source": [
    "high_school_str = '''高級中等學校學生數-依設立別查詢\n",
    "★學年別\t★縣市別\t總計\n",
    "105學年\t新北市\t94,332\n",
    "105學年\t臺北市\t108,182\n",
    "105學年\t桃園市\t81,645\n",
    "105學年\t臺中市\t105,226\n",
    "105學年\t臺南市\t61,815\n",
    "105學年\t高雄市\t89,805\n",
    "105學年\t宜蘭縣\t13,901\n",
    "105學年\t新竹縣\t14,678\n",
    "105學年\t苗栗縣\t18,386\n",
    "105學年\t彰化縣\t42,546\n",
    "105學年\t南投縣\t15,643\n",
    "105學年\t雲林縣\t21,463\n",
    "105學年\t嘉義縣\t10,434\n",
    "105學年\t屏東縣\t22,018\n",
    "105學年\t臺東縣\t6,388\n",
    "105學年\t花蓮縣\t11,284\n",
    "105學年\t澎湖縣\t2,733\n",
    "105學年\t基隆市\t12,768\n",
    "105學年\t新竹市\t20,731\n",
    "105學年\t嘉義市\t19,698\n",
    "105學年\t金門縣\t2,112\n",
    "105學年\t連江縣\t324'''\n",
    "\n",
    "middle_str = '''國民中小學學生數-依學校所在地區查詢\n",
    "★學年別\t★縣市別\t國小\t國中\n",
    "105學年\t新北市\t195,706\t106,199\n",
    "105學年\t臺北市\t116,496\t69,178\n",
    "105學年\t桃園市\t124,604\t70,463\n",
    "105學年\t臺中市\t153,062\t89,408\n",
    "105學年\t臺南市\t89,475\t53,089\n",
    "105學年\t高雄市\t129,926\t76,167\n",
    "105學年\t宜蘭縣\t22,349\t14,783\n",
    "105學年\t新竹縣\t35,692\t18,044\n",
    "105學年\t苗栗縣\t28,579\t16,836\n",
    "105學年\t彰化縣\t65,423\t39,679\n",
    "105學年\t南投縣\t24,180\t15,716\n",
    "105學年\t雲林縣\t33,997\t22,308\n",
    "105學年\t嘉義縣\t20,810\t13,153\n",
    "105學年\t屏東縣\t37,482\t24,014\n",
    "105學年\t臺東縣\t10,702\t6,682\n",
    "105學年\t花蓮縣\t15,914\t10,165\n",
    "105學年\t澎湖縣\t3,756\t2,452\n",
    "105學年\t基隆市\t16,654\t10,279\n",
    "105學年\t新竹市\t29,534\t15,683\n",
    "105學年\t嘉義市\t15,468\t10,634\n",
    "105學年\t金門縣\t3,618\t2,023\n",
    "105學年\t連江縣\t455\t249'''"
   ]
  },
  {
   "cell_type": "code",
   "execution_count": 69,
   "metadata": {
    "collapsed": false
   },
   "outputs": [],
   "source": [
    "city_population = {}\n",
    "for entry in high_school_str.split('\\n')[2:]:\n",
    "    city = entry.split('\\t')[1]\n",
    "    number = int(entry.split('\\t')[2].replace(',', ''))\n",
    "    city_population[city] = {'senior': number}\n",
    "\n",
    "for entry in middle_str.split('\\n')[2:]:\n",
    "    city = entry.split('\\t')[1] \n",
    "    primary = int(entry.split('\\t')[2].replace(',', ''))\n",
    "    junior = int(entry.split('\\t')[3].replace(',', ''))\n",
    "    city_population[city]['primary'] = primary\n",
    "    city_population[city]['junior'] = junior\n",
    "    city_population[city]['total'] = primary + junior + city_population[city]['senior']"
   ]
  },
  {
   "cell_type": "code",
   "execution_count": 73,
   "metadata": {
    "collapsed": false
   },
   "outputs": [],
   "source": [
    "with open('city_population_105.json', 'w') as fp:\n",
    "    json.dump(city_population, fp, ensure_ascii=False, indent=2)"
   ]
  },
  {
   "cell_type": "markdown",
   "metadata": {},
   "source": [
    "# 密度計算\n",
    "\n",
    "文理補習班數量 / 在學人口"
   ]
  },
  {
   "cell_type": "code",
   "execution_count": 78,
   "metadata": {
    "collapsed": false
   },
   "outputs": [],
   "source": [
    "city_cram_density = {}\n",
    "for city, cats, in city_cats.items():\n",
    "    city_name = city.replace('台', '臺')\n",
    "    density = 0\n",
    "    cats_num = 0\n",
    "    if '文理類' in cats:\n",
    "        cats_num = cats['文理類'] \n",
    "        density = cats_num / city_population[city_name]['total'] * 1000\n",
    "    city_cram_density[city] = {'crams': cats_num, 'students': city_population[city_name]['total'], 'density': density }"
   ]
  },
  {
   "cell_type": "code",
   "execution_count": 80,
   "metadata": {
    "collapsed": false
   },
   "outputs": [],
   "source": [
    "with open('city_cram_density.json', 'w') as fp:\n",
    "    json.dump(city_cram_density, fp, ensure_ascii=False, indent=2)"
   ]
  },
  {
   "cell_type": "markdown",
   "metadata": {},
   "source": [
    "# 新竹學校附近補習班分布狀況\n",
    "距離學校 1.5 公里內的補習班\n",
    "\n",
    "學校資料： [新竹市教育網](http://www.hc.edu.tw/school/BasicData/BasicData.aspx)"
   ]
  },
  {
   "cell_type": "code",
   "execution_count": 199,
   "metadata": {
    "collapsed": false
   },
   "outputs": [],
   "source": [
    "import pandas as pd\n",
    "\n",
    "df_city = pd.read_csv('raw_data/竹市補習班.csv')\n",
    "df_county = pd.read_csv('raw_data/竹縣補習班.csv')"
   ]
  },
  {
   "cell_type": "code",
   "execution_count": 200,
   "metadata": {
    "collapsed": false
   },
   "outputs": [
    {
     "data": {
      "text/html": [
       "<div>\n",
       "<table border=\"1\" class=\"dataframe\">\n",
       "  <thead>\n",
       "    <tr style=\"text-align: right;\">\n",
       "      <th></th>\n",
       "      <th>緯度</th>\n",
       "      <th>經度</th>\n",
       "      <th>補習班名稱</th>\n",
       "      <th>電話</th>\n",
       "      <th>核准科目名稱</th>\n",
       "      <th>補習班住址</th>\n",
       "      <th>立案文號</th>\n",
       "      <th>立案日期</th>\n",
       "      <th>備註</th>\n",
       "    </tr>\n",
       "  </thead>\n",
       "  <tbody>\n",
       "    <tr>\n",
       "      <th>0</th>\n",
       "      <td>24.805791</td>\n",
       "      <td>120.962204</td>\n",
       "      <td>新竹市私立蕎立小學堂文理短期補習班</td>\n",
       "      <td>NaN</td>\n",
       "      <td>美語數學自然</td>\n",
       "      <td>新竹市北大路319、319-1號2-3樓</td>\n",
       "      <td>府教社字第1060134979號</td>\n",
       "      <td>9/14/2017</td>\n",
       "      <td>NaN</td>\n",
       "    </tr>\n",
       "    <tr>\n",
       "      <th>1</th>\n",
       "      <td>24.784052</td>\n",
       "      <td>121.020338</td>\n",
       "      <td>新竹市私立迦南文理短期補習班</td>\n",
       "      <td>NaN</td>\n",
       "      <td>國語其他其他</td>\n",
       "      <td>新竹市光復路一段531巷80-1號1樓</td>\n",
       "      <td>府教社字第1060094304號</td>\n",
       "      <td>7/10/2017</td>\n",
       "      <td>NaN</td>\n",
       "    </tr>\n",
       "    <tr>\n",
       "      <th>2</th>\n",
       "      <td>24.795743</td>\n",
       "      <td>120.948937</td>\n",
       "      <td>新竹市私立青庭美語短期補習班</td>\n",
       "      <td>0922979736</td>\n",
       "      <td>英語</td>\n",
       "      <td>新竹市中華路四段226巷12號2樓及3樓</td>\n",
       "      <td>府教社字第1060083425號</td>\n",
       "      <td>6/6/2017</td>\n",
       "      <td>NaN</td>\n",
       "    </tr>\n",
       "    <tr>\n",
       "      <th>3</th>\n",
       "      <td>24.817693</td>\n",
       "      <td>120.973670</td>\n",
       "      <td>新竹市私立華新文理短期補習班</td>\n",
       "      <td>(03)5335001</td>\n",
       "      <td>英文數學理化</td>\n",
       "      <td>新竹市光華北街29號1樓至3樓</td>\n",
       "      <td>府教社字第1060058289號</td>\n",
       "      <td>4/21/2017</td>\n",
       "      <td>NaN</td>\n",
       "    </tr>\n",
       "    <tr>\n",
       "      <th>4</th>\n",
       "      <td>24.794496</td>\n",
       "      <td>120.977534</td>\n",
       "      <td>新竹市私立華盛頓短期補習班學府分校</td>\n",
       "      <td>(03)5753939</td>\n",
       "      <td>英語英語</td>\n",
       "      <td>新竹市學府路31號</td>\n",
       "      <td>府教社字第1060051959號</td>\n",
       "      <td>3/29/2017</td>\n",
       "      <td>NaN</td>\n",
       "    </tr>\n",
       "  </tbody>\n",
       "</table>\n",
       "</div>"
      ],
      "text/plain": [
       "          緯度          經度              補習班名稱           電話  核准科目名稱  \\\n",
       "0  24.805791  120.962204  新竹市私立蕎立小學堂文理短期補習班          NaN  美語數學自然   \n",
       "1  24.784052  121.020338     新竹市私立迦南文理短期補習班          NaN  國語其他其他   \n",
       "2  24.795743  120.948937     新竹市私立青庭美語短期補習班   0922979736      英語   \n",
       "3  24.817693  120.973670     新竹市私立華新文理短期補習班  (03)5335001  英文數學理化   \n",
       "4  24.794496  120.977534  新竹市私立華盛頓短期補習班學府分校  (03)5753939    英語英語   \n",
       "\n",
       "                  補習班住址              立案文號       立案日期   備註  \n",
       "0  新竹市北大路319、319-1號2-3樓  府教社字第1060134979號  9/14/2017  NaN  \n",
       "1   新竹市光復路一段531巷80-1號1樓  府教社字第1060094304號  7/10/2017  NaN  \n",
       "2  新竹市中華路四段226巷12號2樓及3樓  府教社字第1060083425號   6/6/2017  NaN  \n",
       "3       新竹市光華北街29號1樓至3樓  府教社字第1060058289號  4/21/2017  NaN  \n",
       "4             新竹市學府路31號  府教社字第1060051959號  3/29/2017  NaN  "
      ]
     },
     "execution_count": 200,
     "metadata": {},
     "output_type": "execute_result"
    }
   ],
   "source": [
    "# 新竹市補習班資料\n",
    "df_city.head()"
   ]
  },
  {
   "cell_type": "code",
   "execution_count": 201,
   "metadata": {
    "collapsed": false
   },
   "outputs": [
    {
     "data": {
      "text/html": [
       "<div>\n",
       "<table border=\"1\" class=\"dataframe\">\n",
       "  <thead>\n",
       "    <tr style=\"text-align: right;\">\n",
       "      <th></th>\n",
       "      <th>緯度</th>\n",
       "      <th>經度</th>\n",
       "      <th>補習班名稱</th>\n",
       "      <th>電話</th>\n",
       "    </tr>\n",
       "  </thead>\n",
       "  <tbody>\n",
       "    <tr>\n",
       "      <th>0</th>\n",
       "      <td>24.812391</td>\n",
       "      <td>121.030753</td>\n",
       "      <td>愛思可樂教育事業股份有限公司附設新竹縣私立樂研文理短期補習班</td>\n",
       "      <td>(03)5500105</td>\n",
       "    </tr>\n",
       "    <tr>\n",
       "      <th>1</th>\n",
       "      <td>24.815008</td>\n",
       "      <td>121.020831</td>\n",
       "      <td>丞瑞實業有限公司附設新竹縣私立丞瑞身心適能技藝短期補習班</td>\n",
       "      <td>(03)6214168</td>\n",
       "    </tr>\n",
       "    <tr>\n",
       "      <th>2</th>\n",
       "      <td>24.827898</td>\n",
       "      <td>121.029222</td>\n",
       "      <td>新竹縣私立芯學淵文理短期補習班</td>\n",
       "      <td>(03)6578307</td>\n",
       "    </tr>\n",
       "    <tr>\n",
       "      <th>3</th>\n",
       "      <td>24.822343</td>\n",
       "      <td>121.015305</td>\n",
       "      <td>新竹縣私立英王文理短期補習班</td>\n",
       "      <td>(03)5528490</td>\n",
       "    </tr>\n",
       "    <tr>\n",
       "      <th>4</th>\n",
       "      <td>24.824950</td>\n",
       "      <td>121.032623</td>\n",
       "      <td>新竹縣私立奇玉美語文理短期補習班</td>\n",
       "      <td>0932134670</td>\n",
       "    </tr>\n",
       "  </tbody>\n",
       "</table>\n",
       "</div>"
      ],
      "text/plain": [
       "          緯度          經度                           補習班名稱            電話\n",
       "0  24.812391  121.030753  愛思可樂教育事業股份有限公司附設新竹縣私立樂研文理短期補習班  (03)5500105　\n",
       "1  24.815008  121.020831    丞瑞實業有限公司附設新竹縣私立丞瑞身心適能技藝短期補習班  (03)6214168　\n",
       "2  24.827898  121.029222                 新竹縣私立芯學淵文理短期補習班  (03)6578307　\n",
       "3  24.822343  121.015305                  新竹縣私立英王文理短期補習班  (03)5528490　\n",
       "4  24.824950  121.032623                新竹縣私立奇玉美語文理短期補習班   0932134670　"
      ]
     },
     "execution_count": 201,
     "metadata": {},
     "output_type": "execute_result"
    }
   ],
   "source": [
    "# 新竹縣補習班資料\n",
    "df_county.head()"
   ]
  },
  {
   "cell_type": "code",
   "execution_count": 202,
   "metadata": {
    "collapsed": false
   },
   "outputs": [],
   "source": [
    "with open('df_city.json', 'w', encoding='utf-8') as file:\n",
    "    df_city.to_json(file,orient='records',force_ascii=False)\n",
    "with open('df_county.json', 'w', encoding='utf-8') as file:\n",
    "    df_county.to_json(file,orient='records',force_ascii=False)"
   ]
  },
  {
   "cell_type": "code",
   "execution_count": 205,
   "metadata": {
    "collapsed": true
   },
   "outputs": [],
   "source": [
    "cramschool_items = json.load(open('df_county.json')) + json.load(open('df_city.json'))#"
   ]
  },
  {
   "cell_type": "code",
   "execution_count": 167,
   "metadata": {
    "collapsed": false
   },
   "outputs": [
    {
     "name": "stdout",
     "output_type": "stream",
     "text": [
      "{'緯度': 24.8057911, '補習班名稱': '新竹市私立蕎立小學堂文理短期補習班', '立案文號': '府教社字第1060134979號', '補習班住址': '新竹市北大路319、319-1號2-3樓', '立案日期': '9/14/2017', '備註': None, '經度': 120.9622035, '核准科目名稱': '美語數學自然', '電話': None}\n",
      "{'緯度': '24.7365549', '經度': ' 121.08755229999997', '補習班名稱': '私立自強文理短期補習班', '電話': '(03)5963863 ,5955798\\u3000'}\n"
     ]
    }
   ],
   "source": [
    "print(cramschool_items[0])\n",
    "print(cramschool_items[-1])"
   ]
  },
  {
   "cell_type": "code",
   "execution_count": 108,
   "metadata": {
    "collapsed": false
   },
   "outputs": [],
   "source": [
    "# 新竹市學校地址資料\n",
    "\n",
    "schools_str = '''\n",
    "1\t成德高中\t黃小芳\t5258748\t5266049\t30047崧嶺路128巷38號\n",
    "2\t香山高中\t謝大才\t5384332\t5308149\t30093香山里元培街124號\n",
    "3\t建功高中\t傅瑞琪\t5745892\t5737584\t30070建功二路17號\n",
    "4\t建華國中\t黃信騰\t5238075\t5266020\t30068建華里2鄰學府路2號\n",
    "5\t培英國中\t丁淑觀\t5721301\t5726578\t30068東山里學府路4號\n",
    "6\t光華國中\t宋雨親\t5316605\t5340698\t30053光華北街10號\n",
    "7\t育賢國中\t黃淑文\t5223075\t5266047\t30063南大路569號\n",
    "8\t光武國中\t林茂成\t5773934\t5786856\t30072光復路一段512號\n",
    "9\t南華國中\t陳彥宇\t5362204\t5362671\t30058海濱路55號\n",
    "10\t富禮國中\t宋隆文\t5374793\t5371451\t30094富禮街16號\n",
    "11\t三民國中\t洪碧霜\t5339825\t5337553\t30041自由路95巷15號\n",
    "12\t內湖國中\t張慧媛\t5373484\t5371802\t30095五福路一段12號\n",
    "13\t虎林國中\t鄭明谷\t5309433\t5397421\t30090延平路二段76號\n",
    "14\t新科國中\t彭元豐\t6686387\t6686386\t30074光復路一段89巷88號\n",
    "15\t竹光國中\t潘致惠\t5246683\t5244967\t30044和平路1號\n",
    "01\t國立清華大學\t5715131\t5710582\t光復路二段101號\n",
    "02\t 國立交通大學 \t5712121\t5712794\t大學路1001號\n",
    "04\t 國立園區實中 \t5777011\t5781813\t介壽路300號\n",
    "05\t 國立清華大學附小 \t5282420\t5253470\t北區四維路47號\n",
    "06\t 國立新竹高中 \t5736666\t5736699\t東區學府路36號\n",
    "07\t 國立新竹高商 \t5714104\t5723212\t學府路128號\n",
    "08\t 國立新竹女中 \t5456611\t5425894\t中華路二段270號\n",
    "09\t 國立新竹高工 \t5322175\t5330381\t中華路二段2號\n",
    "10\t 私立中華大學 \t5374281\t5373771\t香山區五福路二段707號\n",
    "11\t 私立玄奘大學 \t5302255\t5319208\t香山區東香里玄奘路48號\n",
    "12\t 私立元培科技大學 \t5381183\t5385353\t香山區新竹市元培街306號\n",
    "13\t 私立世界高中 \t5783271\t5783275\t東區光復路一段257號\n",
    "14\t 私立磐石中學 \t5223946\t5243195\t北區西大路683號\n",
    "15\t 私立光復中學 \t5753699\t5720771\t光復路二段153號\n",
    "16\t 私立曙光女中 \t5325709\t5422125\t東區北大路61號\n",
    "17\t 私立康橋中小學 \t5192000\t5192222\t國家藝術園區藝術路二號\n",
    "18\t 私立曙光小學 \t5328283\t5425787\t東區北大路70號\n",
    "19\t 新竹荷蘭國際學校 \t5267837\t5248261\t牛埔東路290號\n",
    "20\t 新竹美國學校 \t5203211\t5296482\t國家藝術園區藝術路2號\n",
    "21\t 亞太美國學校 \t5717070\t5721148\t光復路二段151號3F\n",
    "'''"
   ]
  },
  {
   "cell_type": "code",
   "execution_count": 139,
   "metadata": {
    "collapsed": false
   },
   "outputs": [],
   "source": [
    "def is_high_school(name):\n",
    "    for keyword in ['高中', '國中', '中學', '實中', '附中', '女中', '高商', '高工']:\n",
    "        if keyword in name:\n",
    "            return True\n",
    "    return False\n",
    "\n",
    "school_address = {}\n",
    "\n",
    "# 把小學、大學過濾掉\n",
    "for line in schools_str.split('\\n')[1:]:\n",
    "    if len(line)==0: continue\n",
    "    row = line.split('\\t')\n",
    "    if is_high_school(row[1]):\n",
    "        school_address[row[1].strip()] =  { 'address': row[-1].strip() }"
   ]
  },
  {
   "cell_type": "code",
   "execution_count": 183,
   "metadata": {
    "collapsed": true
   },
   "outputs": [],
   "source": [
    "## use google api to get the coordinate of an address\n",
    "def get_coord(address):\n",
    "    google_map_url = 'http://maps.google.com/maps/api/geocode/json?address={}'\n",
    "    f = urllib.request.urlopen(google_map_url.format(quote_plus(address)))\n",
    "    result = json.loads(f.read().decode('utf-8'))\n",
    "    return result['results'][0]['geometry']['location']"
   ]
  },
  {
   "cell_type": "code",
   "execution_count": 142,
   "metadata": {
    "collapsed": false
   },
   "outputs": [],
   "source": [
    "# get coord of each school in Hsinchu\n",
    "for school, value in school_address.items():\n",
    "    value['coord'] = get_coord(value['address'])"
   ]
  },
  {
   "cell_type": "code",
   "execution_count": 170,
   "metadata": {
    "collapsed": true
   },
   "outputs": [],
   "source": [
    "# manually added 竹北高中\n",
    "school_address['國立竹北高中'] = {'address': '302新竹縣竹北市中央路3號',\n",
    "  'coord': {'lat': 24.8367557, 'lng': 121.0019671}}"
   ]
  },
  {
   "cell_type": "code",
   "execution_count": 185,
   "metadata": {
    "collapsed": false
   },
   "outputs": [],
   "source": [
    "from math import sin, cos, sqrt, atan2, radians\n",
    "\n",
    "# calculate distance between two coords\n",
    "def get_distance(_lat1, _lon1, _lat2, _lon2):\n",
    "    # approximate radius of earth in km\n",
    "    R = 6373.0\n",
    "    lat1 = radians(_lat1)\n",
    "    lon1 = radians(_lon1)\n",
    "    lat2 = radians(_lat2)\n",
    "    lon2 = radians(_lon2)\n",
    "\n",
    "    dlon = lon2 - lon1\n",
    "    dlat = lat2 - lat1\n",
    "\n",
    "    a = sin(dlat / 2)**2 + cos(lat1) * cos(lat2) * sin(dlon / 2)**2\n",
    "    c = 2 * atan2(sqrt(a), sqrt(1 - a))\n",
    "\n",
    "    distance = R * c\n",
    "\n",
    "    return distance"
   ]
  },
  {
   "cell_type": "code",
   "execution_count": 212,
   "metadata": {
    "collapsed": false
   },
   "outputs": [],
   "source": [
    "# 計算學校附近的補習班\n",
    "\n",
    "school_near_cram = {}\n",
    "for school, value in school_address.items():\n",
    "    school_near_cram[school] = []\n",
    "    lat_s = float(value['coord']['lat'])\n",
    "    lon_s = float(value['coord']['lng'])\n",
    "    \n",
    "    for cram in cramschool_items:\n",
    "        lat_c = float(cram['緯度'])\n",
    "        lon_c = float(cram['經度'])\n",
    "        \n",
    "        if get_distance(lat_s, lon_s, lat_c, lon_c) <= 1.5:\n",
    "            school_near_cram[school].append(cram['補習班名稱'])"
   ]
  },
  {
   "cell_type": "code",
   "execution_count": 226,
   "metadata": {
    "collapsed": false
   },
   "outputs": [
    {
     "name": "stdout",
     "output_type": "stream",
     "text": [
      "私立光復中學 49\n",
      "光華國中 113\n",
      "國立新竹女中 211\n",
      "建華國中 133\n",
      "新科國中 59\n",
      "三民國中 156\n",
      "竹光國中 0\n",
      "私立磐石中學 91\n",
      "成德高中 41\n",
      "國立新竹高商 77\n",
      "國立園區實中 61\n",
      "光武國中 62\n",
      "富禮國中 1\n",
      "培英國中 127\n",
      "香山高中 8\n",
      "南華國中 6\n",
      "建功高中 25\n",
      "育賢國中 61\n",
      "國立竹北高中 79\n",
      "國立新竹高工 0\n",
      "內湖國中 5\n",
      "私立曙光女中 189\n",
      "私立世界高中 63\n",
      "國立新竹高中 117\n",
      "虎林國中 21\n"
     ]
    }
   ],
   "source": [
    "for s, v in school_near_cram.items():\n",
    "    print('{} {}'.format(s,len(v)))"
   ]
  }
 ],
 "metadata": {
  "kernelspec": {
   "display_name": "Python 3",
   "language": "python",
   "name": "python3"
  },
  "language_info": {
   "codemirror_mode": {
    "name": "ipython",
    "version": 3
   },
   "file_extension": ".py",
   "mimetype": "text/x-python",
   "name": "python",
   "nbconvert_exporter": "python",
   "pygments_lexer": "ipython3",
   "version": "3.5.1"
  }
 },
 "nbformat": 4,
 "nbformat_minor": 2
}
